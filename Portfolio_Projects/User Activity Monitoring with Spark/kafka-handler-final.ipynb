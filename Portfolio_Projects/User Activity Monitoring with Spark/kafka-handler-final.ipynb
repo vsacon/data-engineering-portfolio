{
 "cells": [
  {
   "cell_type": "markdown",
   "metadata": {},
   "source": [
    "# kafka handler notebook (setup + producer )"
   ]
  },
  {
   "cell_type": "code",
   "execution_count": null,
   "metadata": {},
   "outputs": [],
   "source": [
    "! pip install confluent-kafka\n"
   ]
  },
  {
   "cell_type": "markdown",
   "metadata": {},
   "source": [
    "## Getting started with kafka\n",
    "- use the provided link or simply go to https://kafka.apache.org/\n",
    "- download the the latest version of Kafka \n",
    "- unzip .tgz file into your root project directory (at the same level as this notebook)\n",
    "- update KAFKA_FOLDER variable below to appropriate directory name is necessary\n",
    "- run the next two cells to get the commands to run in a terminal because they run indefinitely"
   ]
  },
  {
   "cell_type": "code",
   "execution_count": null,
   "metadata": {},
   "outputs": [],
   "source": [
    "KAFKA_FOLDER= \"kafka_2.13-3.9.0/\"\n",
    "\n",
    "#launch-kafka-cluster\n",
    "\n",
    "#This script must be run in the terminal window below rather than jupyter!\n",
    "! echo \"{KAFKA_FOLDER}bin/zookeeper-server-start.sh {KAFKA_FOLDER}config/zookeeper.properties\"\n"
   ]
  },
  {
   "cell_type": "code",
   "execution_count": null,
   "metadata": {},
   "outputs": [],
   "source": [
    "#start the kafka broker\n",
    "# get the command to run in a new terminal window below (cannot run in this jupyter notebook)\n",
    "! echo \"{KAFKA_FOLDER}bin/kafka-server-start.sh {KAFKA_FOLDER}config/server.properties\""
   ]
  },
  {
   "cell_type": "code",
   "execution_count": null,
   "metadata": {},
   "outputs": [],
   "source": [
    "# create topic \"ecommerce_topic\"\n",
    "! {KAFKA_FOLDER}bin/kafka-topics.sh --create --topic ecommerce_topic \\\n",
    "        --bootstrap-server localhost:9092 \\\n",
    "        --replication-factor 1 --partitions 1  \n",
    "    \n"
   ]
  },
  {
   "cell_type": "code",
   "execution_count": null,
   "metadata": {},
   "outputs": [],
   "source": [
    "#launch-kafka-producer\n",
    "! kafka_2.13-3.9.0/bin/kafka-console-producer.sh --topic ecommerce_topic --bootstrap-server localhost:9092\n"
   ]
  },
  {
   "cell_type": "markdown",
   "metadata": {},
   "source": [
    "#this is an example of data \n",
    "{\"transaction_id\": \"T12345\", \"user_id\": \"U56789\", \"amount\": 250.0, \"timestamp\": \"2024-12-05T15:30:00Z\"}\n"
   ]
  },
  {
   "cell_type": "code",
   "execution_count": null,
   "metadata": {},
   "outputs": [],
   "source": [
    "#launch-kafka-consumer\n",
    "! bin/kafka-console-consumer.sh --topic ecommerce_topic --from-beginning --bootstrap-server localhost:9092\n"
   ]
  },
  {
   "cell_type": "markdown",
   "metadata": {},
   "source": [
    "# Kafka producer for the main project : "
   ]
  },
  {
   "cell_type": "code",
   "execution_count": null,
   "metadata": {},
   "outputs": [],
   "source": [
    "from confluent_kafka import Producer\n",
    "import json\n",
    "import time\n",
    "import random\n",
    "from datetime import datetime\n",
    "\n",
    "# Kafka producer configuration\n",
    "producer = Producer({\n",
    "    'bootstrap.servers': 'localhost:9092'\n",
    "})\n",
    "\n",
    "# Function to generate fake transaction data\n",
    "def generate_fake_transaction():\n",
    "    transaction_id = f\"T{random.randint(10000, 99999)}\"\n",
    "    user_id = f\"U{random.randint(1000, 9999)}\"\n",
    "    amount = round(random.uniform(10.0, 1000.0), 2)\n",
    "    timestamp = datetime.utcnow().strftime(\"%Y-%m-%dT%H:%M:%SZ\")\n",
    "    return {\n",
    "        \"transaction_id\": transaction_id,\n",
    "        \"user_id\": user_id,\n",
    "        \"amount\": amount,\n",
    "        \"timestamp\": timestamp\n",
    "    }\n",
    "\n",
    "try:\n",
    "    while True:\n",
    "        # Generate a fake transaction\n",
    "        fake_transaction = generate_fake_transaction()\n",
    "\n",
    "        # Send the transaction to the Kafka topic\n",
    "        producer.produce('ecommerce_topic', value=json.dumps(fake_transaction))\n",
    "        print(f\"Sent: {fake_transaction}\")\n",
    "\n",
    "        # Ensure all messages are sent\n",
    "        producer.flush()\n",
    "\n",
    "        # Wait 5 seconds before sending the next event\n",
    "        time.sleep(5)\n",
    "\n",
    "except KeyboardInterrupt:\n",
    "    print(\"\\nStopping the producer...\")\n"
   ]
  },
  {
   "cell_type": "markdown",
   "metadata": {},
   "source": [
    "# use this fake data generator for practice task :\n"
   ]
  },
  {
   "cell_type": "code",
   "execution_count": null,
   "metadata": {},
   "outputs": [],
   "source": [
    "from confluent_kafka import Producer\n",
    "import json\n",
    "import time\n",
    "import random\n",
    "from datetime import datetime\n",
    "\n",
    "\n",
    "# Kafka producer configuration\n",
    "producer = Producer({\n",
    "    'bootstrap.servers': 'localhost:9092'\n",
    "})\n",
    "\n",
    "# Function to generate fake transaction data\n",
    "def generate_fake_transaction():\n",
    "    transaction_id = f\"T{random.randint(10000, 99999)}\"\n",
    "    user_id = [f\"U{random.randint(1000, 1005)}\" for _ in range(5)]  # A limited set of user IDs\n",
    "    # Generate a higher proportion of transactions above $300\n",
    "    amount = round(random.uniform(100.0, 1200.0), 2)\n",
    "    timestamp = datetime.utcnow().strftime(\"%Y-%m-%d %H:%M:%S\")\n",
    "    return {\n",
    "        \"transaction_id\": transaction_id,\n",
    "        \"user_id\": user_id,\n",
    "        \"amount\": amount,\n",
    "        \"timestamp\": timestamp\n",
    "    }\n",
    "\n",
    "# Generate and send transactions\n",
    "print(\"Starting to send fake transactions to Kafka...\")\n",
    "try:\n",
    "    while True:\n",
    "        # Generate a fake transaction\n",
    "        fake_transaction = generate_fake_transaction()\n",
    "\n",
    "        # Send the transaction to the Kafka topic\n",
    "        producer.produce('ecommerce_topic', value=json.dumps(fake_transaction))\n",
    "        print(f\"Sent: {fake_transaction}\")\n",
    "\n",
    "        # Ensure all messages are sent\n",
    "        producer.flush()\n",
    "\n",
    "        time.sleep(random.uniform(0.5, 2))  # Random delay to simulate streaming\n",
    "\n",
    "except KeyboardInterrupt:\n",
    "    print(\"\\nStopping the producer...\")\n",
    "finally:\n",
    "    producer.close()\n"
   ]
  },
  {
   "cell_type": "markdown",
   "metadata": {},
   "source": [
    "# use this fake data generator for  task 4 :\n"
   ]
  },
  {
   "cell_type": "code",
   "execution_count": null,
   "metadata": {},
   "outputs": [],
   "source": [
    "from confluent_kafka import Producer\n",
    "import json\n",
    "import time\n",
    "import random\n",
    "from datetime import datetime\n",
    "\n",
    "\n",
    "# Kafka producer configuration\n",
    "producer = Producer({\n",
    "    'bootstrap.servers': 'localhost:9092'\n",
    "})\n",
    "\n",
    "# Function to generate fake transaction data\n",
    "def generate_fake_transaction():\n",
    "    transaction_id = f\"T{random.randint(10000, 99999)}\"\n",
    "    user_id = f\"U{random.randint(1000, 1020)}\"  # Small range to allow grouping by user_id\n",
    "    amount = round(random.uniform(5000.0, 15000.0), 2)  # Ensure some transactions are >10,000\n",
    "    timestamp = datetime.utcnow().strftime(\"%Y-%m-%d %H:%M:%S\")\n",
    "    return {\n",
    "        \"transaction_id\": transaction_id,\n",
    "        \"user_id\": user_id,\n",
    "        \"amount\": amount,\n",
    "        \"timestamp\": timestamp\n",
    "    }\n",
    "\n",
    "# Generate and send transactions\n",
    "print(\"Starting to send fake transactions to Kafka...\")\n",
    "try:\n",
    "    while True:\n",
    "        # Generate a fake transaction\n",
    "        fake_transaction = generate_fake_transaction()\n",
    "\n",
    "        # Send the transaction to the Kafka topic\n",
    "        producer.produce('ecommerce_topic', value=json.dumps(fake_transaction))\n",
    "        print(f\"Sent: {fake_transaction}\")\n",
    "\n",
    "        # Ensure all messages are sent\n",
    "        producer.flush()\n",
    "\n",
    "        time.sleep(random.uniform(0.5, 2))  # Random delay to simulate streaming\n",
    "\n",
    "except KeyboardInterrupt:\n",
    "    print(\"\\nStopping the producer...\")\n",
    "finally:\n",
    "    producer.close()\n"
   ]
  },
  {
   "cell_type": "markdown",
   "metadata": {},
   "source": [
    "# use this fake data generator for cumulative task :\n"
   ]
  },
  {
   "cell_type": "code",
   "execution_count": null,
   "metadata": {},
   "outputs": [],
   "source": [
    "def generate_fake_transaction():\n",
    "    transaction_id = f\"T{random.randint(10000, 99999)}\"\n",
    "    user_id = f\"U{random.randint(1000, 9999)}\"\n",
    "    \n",
    "    # Randomly assign some transactions as potentially fraudulent\n",
    "    amount = round(random.uniform(10.0, 15000.0), 2)\n",
    "    \n",
    "    # Introduce occasional late or out-of-order timestamps\n",
    "    delay = random.choice([0, -5, -10])  # Real-time, -5 minutes, -10 minutes\n",
    "    timestamp = (datetime.utcnow() + timedelta(minutes=delay)).strftime(\"%Y-%m-%dT%H:%M:%SZ\")\n",
    "    \n",
    "    return {\n",
    "        \"transaction_id\": transaction_id,\n",
    "        \"user_id\": user_id,\n",
    "        \"amount\": amount,\n",
    "        \"timestamp\": timestamp\n",
    "    }"
   ]
  }
 ],
 "metadata": {
  "kernelspec": {
   "display_name": "venv",
   "language": "python",
   "name": "python3"
  },
  "language_info": {
   "codemirror_mode": {
    "name": "ipython",
    "version": 3
   },
   "file_extension": ".py",
   "mimetype": "text/x-python",
   "name": "python",
   "nbconvert_exporter": "python",
   "pygments_lexer": "ipython3",
   "version": "3.13.1"
  }
 },
 "nbformat": 4,
 "nbformat_minor": 2
}
